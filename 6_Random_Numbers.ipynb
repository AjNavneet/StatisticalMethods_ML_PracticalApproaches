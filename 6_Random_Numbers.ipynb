{
  "nbformat": 4,
  "nbformat_minor": 0,
  "metadata": {
    "colab": {
      "provenance": []
    },
    "kernelspec": {
      "name": "python3",
      "display_name": "Python 3"
    },
    "language_info": {
      "name": "python"
    }
  },
  "cells": [
    {
      "cell_type": "markdown",
      "source": [
        "# Understanding Randomness in Machine Learning\n",
        "\n",
        "Randomness plays a significant role in machine learning, serving as a tool and a feature in data preparation and learning algorithms.\n",
        "- It helps these algorithms make predictions.\n",
        "- To grasp the importance of statistical methods in machine learning, it's essential to understand where randomness comes from in this field.\n",
        "- In machine learning, randomness is generated through a mathematical technique known as a pseudorandom number generator.\n",
        "\n",
        "In this tutorial, we will explore pseudorandom number generators and learn when to manage and control randomness in machine learning. By the end of this tutorial, we will gain insights into:\n",
        "\n",
        "- The origins of randomness in applied machine learning, with a focus on algorithms.\n",
        "- What pseudorandom number generators are and how to use them in Python.\n",
        "- When to control the sequence of random numbers and when to control for randomness.\n",
        "\n",
        "---\n"
      ],
      "metadata": {
        "id": "RNAnCsxWKZPT"
      }
    },
    {
      "cell_type": "markdown",
      "source": [
        "# 1. Randomness in Machine Learning\n",
        "\n",
        "Randomness is a fundamental element in applied machine learning. It's a valuable tool that helps learning algorithms become more robust and generate accurate predictions and models. Let's explore a few aspects of randomness in this context.\n",
        "\n",
        "## 1.1. Randomness in Data\n",
        "\n",
        "- When we collect data for training and evaluating machine learning models, there's often a random element involved.\n",
        "  - This data might contain errors and uncertainties, making it challenging to establish a clear relationship between inputs and outputs.\n",
        "\n",
        "  ---\n",
        "\n",
        "## 1.2. Randomness in Evaluation\n",
        "\n",
        "- In machine learning, we typically work with a small sample of data, not the entire dataset. To account for this, we use randomness in our evaluation processes.\n",
        "  - For example, techniques like k-fold cross-validation allow us to assess the model's performance on different subsets of the available data, providing a more comprehensive understanding of its capabilities.\n",
        "\n",
        "  ---\n",
        "\n",
        "## 1.3. Randomness in Algorithms\n",
        "\n",
        "- Machine learning algorithms leverage randomness during the learning process.\n",
        "  - This randomness is a feature that helps algorithms create more effective mappings of data.\n",
        "  - It helps prevent overfitting to the training set and promotes generalization to a broader problem.\n",
        "\n",
        "- Algorithms using randomness are often referred to as stochastic algorithms because they introduce controlled randomness into the modeling process. Some common examples of randomness in machine learning algorithms include:\n",
        "\n",
        "  - Shuffling training data before each training epoch in stochastic gradient descent.\n",
        "  - Selecting random subsets of input features for split points in random forest algorithms.\n",
        "  - Using random initial weights in artificial neural networks.\n",
        "\n",
        "In machine learning, there are sources of randomness that we need to control for, such as noise in the data, and sources of randomness that we can harness for our advantage, such as algorithm evaluation and the algorithms themselves.\n",
        "\n",
        "---\n"
      ],
      "metadata": {
        "id": "g86PsZwfKhVu"
      }
    },
    {
      "cell_type": "markdown",
      "source": [
        "# Pseudorandom Number Generators\n",
        "\n",
        "- In computer programs and algorithms, we often need a source of randomness, and this is where pseudorandom number generators come into play.\n",
        "  - Unlike true randomness, which might involve physical sources like Geiger counters, we use pseudorandomness in machine learning.\n",
        "  - Pseudorandom numbers appear close to random but are generated through a deterministic process.\n",
        "\n",
        "- Some common uses of pseudorandom number generators in machine learning include shuffling data and initializing coefficients with random values.\n",
        "\n",
        "- These generators are usually functions that you can call to obtain a random number. When called repeatedly, they provide a new random number each time.\n",
        "  - Additionally, wrapper functions allow you to customize your randomness, choosing between integers, floating-point numbers, specific distributions, and ranges, among other options.\n",
        "\n",
        "- Pseudorandom numbers are generated in a sequence, and this sequence is entirely determined by an initial number called the seed.\n",
        "  - If you don't specify a seed explicitly, the generator may use the current system time in seconds or milliseconds as the seed.\n",
        "  - The specific value of the seed doesn't matter; you can choose any value you like. What's essential is that using the same seed will result in the same sequence of random numbers.\n",
        "\n",
        "Let's solidify this concept with some practical examples.\n",
        "\n",
        "---\n"
      ],
      "metadata": {
        "id": "2WsL2zcLLcER"
      }
    },
    {
      "cell_type": "markdown",
      "source": [
        "# Generating Random Numbers with Python\n",
        "\n",
        "Python's standard library includes a module named \"random\" that provides a set of functions for generating random numbers.\n",
        "- Python employs a well-established pseudorandom number generator known as the Mersenne Twister.\n",
        "\n",
        "In this section, we'll explore various scenarios where you can generate and utilize random numbers and randomness using Python's standard API.\n"
      ],
      "metadata": {
        "id": "NRM9MlsoL-Z6"
      }
    },
    {
      "cell_type": "markdown",
      "source": [
        "# 1 - Seeding the Random Number Generator\n",
        "\n",
        "In the case of pseudorandom number generation, a mathematical function creates a sequence of numbers that appear nearly random.\n",
        "\n",
        "- To start this sequence, we use a parameter known as the \"seed.\"\n",
        "  - Importantly, this function is deterministic, which means that given the same seed, it will produce the same sequence of numbers consistently.\n",
        "\n",
        "- The actual value of the seed is not critical. To seed the pseudorandom number generator in Python, you can use the `seed()` function, supplying it with an integer value like 1 or 7.\n",
        "  - If you don't explicitly seed the generator, Python defaults to using the current system time in milliseconds since the epoch (1970).\n",
        "\n",
        "  ---\n",
        "\n",
        "- Here's an example of how seeding works, generating some random numbers, and showcasing how reseeding the generator results in the same sequence of numbers:\n",
        "  - This example seeds the pseudorandom number generator with the value 1, generates three random numbers, reseeds the generator, and demonstrates that the same three random numbers are produced.\n",
        "\n",
        "  - Seeding can be valuable when you want to control the randomness, ensuring that your code consistently produces the same result, such as in a production model.\n",
        "\n",
        "  - In experimental scenarios where randomization controls for confounding variables, you may choose different seeds for each run of the experiment.\n"
      ],
      "metadata": {
        "id": "_5UMdJSfMH5e"
      }
    },
    {
      "cell_type": "code",
      "source": [
        "# Seed the pseudorandom number generator\n",
        "from random import seed, random\n",
        "\n",
        "# Seed the random number generator\n",
        "seed(1)\n",
        "\n",
        "# Generate some random numbers\n",
        "print(random(), random(), random())\n",
        "\n",
        "# Reset the seed\n",
        "seed(1)\n",
        "\n",
        "# Generate some random numbers\n",
        "print(random(), random(), random())"
      ],
      "metadata": {
        "colab": {
          "base_uri": "https://localhost:8080/"
        },
        "id": "2okdhhu6KzC0",
        "outputId": "cd1d71d9-ceac-417d-a5c9-201cfb213d20"
      },
      "execution_count": null,
      "outputs": [
        {
          "output_type": "stream",
          "name": "stdout",
          "text": [
            "0.13436424411240122 0.8474337369372327 0.763774618976614\n",
            "0.13436424411240122 0.8474337369372327 0.763774618976614\n"
          ]
        }
      ]
    },
    {
      "cell_type": "markdown",
      "source": [
        "---"
      ],
      "metadata": {
        "id": "HppEcYe7NNDj"
      }
    },
    {
      "cell_type": "markdown",
      "source": [
        "# 2 - Random Floating Point Values\n",
        "\n",
        "To generate random floating-point values, you can use Python's `random()` function.\n",
        "- These values are generated within the range of 0 to 1, specifically within the interval [0, 1).\n",
        "\n",
        "- Each value is drawn from a uniform distribution, which means that every possible value has an equal chance of being selected.\n",
        "\n",
        "- Here's an example that generates 10 random floating-point values:\n",
        "\n",
        "  - Running the example will generate and print each random floating-point value.\n",
        "\n",
        "- If you need to rescale these floating-point values to a desired range, you can use the following formula:\n",
        "\n",
        "  ```\n",
        "  scaled_value = min + (value × (max - min))\n",
        "  ```\n",
        "\n",
        "  - Where `min` and `max` represent the minimum and maximum values of the desired range, and `value` is the randomly generated floating-point value in the range between 0 and 1.\n"
      ],
      "metadata": {
        "id": "Ew02zjhzM0PP"
      }
    },
    {
      "cell_type": "code",
      "source": [
        "# Generate random floating-point values\n",
        "from random import seed, random\n",
        "\n",
        "# Seed the random number generator\n",
        "seed(1)\n",
        "\n",
        "# Generate random numbers between 0 and 1\n",
        "for _ in range(10):\n",
        "    value = random()\n",
        "    print(value)"
      ],
      "metadata": {
        "colab": {
          "base_uri": "https://localhost:8080/"
        },
        "id": "V3OTAOG6Msl3",
        "outputId": "735f1e18-878c-4b57-cd70-c557aa9640ad"
      },
      "execution_count": null,
      "outputs": [
        {
          "output_type": "stream",
          "name": "stdout",
          "text": [
            "0.13436424411240122\n",
            "0.8474337369372327\n",
            "0.763774618976614\n",
            "0.2550690257394217\n",
            "0.49543508709194095\n",
            "0.4494910647887381\n",
            "0.651592972722763\n",
            "0.7887233511355132\n",
            "0.0938595867742349\n",
            "0.02834747652200631\n"
          ]
        }
      ]
    },
    {
      "cell_type": "markdown",
      "source": [
        "# Random Integer Values\n",
        "\n",
        "To generate random integer values, you can use the `randint()` function in Python.\n",
        "- This function requires two arguments: the starting and ending values for the range within which the integer values will be generated.\n",
        "  - The generated integers include both the start and end values, forming an interval [start, end].\n",
        "  - Random values are drawn from a uniform distribution.\n",
        "\n",
        "- Here's an example that generates 10 random integer values between 0 and 10:\n",
        "\n"
      ],
      "metadata": {
        "id": "Zh3rc3S0NYsV"
      }
    },
    {
      "cell_type": "code",
      "source": [
        "# Generate random integer values\n",
        "from random import seed, randint\n",
        "\n",
        "# Seed the random number generator\n",
        "seed(1)\n",
        "\n",
        "# Generate some integers\n",
        "for _ in range(10):\n",
        "    value = randint(0, 10)\n",
        "    print(value)"
      ],
      "metadata": {
        "colab": {
          "base_uri": "https://localhost:8080/"
        },
        "id": "cWUHV_SFNK-d",
        "outputId": "aec191df-7da4-4838-b254-73b5b0b21275"
      },
      "execution_count": null,
      "outputs": [
        {
          "output_type": "stream",
          "name": "stdout",
          "text": [
            "2\n",
            "9\n",
            "1\n",
            "4\n",
            "1\n",
            "7\n",
            "7\n",
            "7\n",
            "10\n",
            "6\n"
          ]
        }
      ]
    },
    {
      "cell_type": "markdown",
      "source": [
        "# Random Gaussian Values\n",
        "\n",
        "To generate random floating-point values drawn from a Gaussian distribution, you can use the `gauss()` function in Python.\n",
        "\n",
        "- This function requires two parameters that determine the characteristics of the distribution: the mean and the standard deviation.\n",
        "\n",
        "- The example below generates 10 random values drawn from a Gaussian distribution with a mean of 0.0 and a standard deviation of 1.0. It's important to note that these parameters do not represent bounds on the values but rather control the shape and spread of the distribution, creating a bell-shaped curve with values distributed around the mean.\n",
        "\n",
        "\n",
        "- Running the example will generate and print 10 random values following a Gaussian distribution.\n"
      ],
      "metadata": {
        "id": "Q3yX33AaNnuU"
      }
    },
    {
      "cell_type": "code",
      "source": [
        "# Generate random Gaussian values\n",
        "from random import seed, gauss\n",
        "\n",
        "# Seed the random number generator\n",
        "seed(1)\n",
        "\n",
        "# Generate some Gaussian values\n",
        "for _ in range(10):\n",
        "    value = gauss(0, 1)\n",
        "    print(value)"
      ],
      "metadata": {
        "colab": {
          "base_uri": "https://localhost:8080/"
        },
        "id": "tt7EZaK1NmsJ",
        "outputId": "dec07a4e-9c41-42aa-9193-94911c603f56"
      },
      "execution_count": null,
      "outputs": [
        {
          "output_type": "stream",
          "name": "stdout",
          "text": [
            "1.2881847531554629\n",
            "1.449445608699771\n",
            "0.06633580893826191\n",
            "-0.7645436509716318\n",
            "-1.0921732151041414\n",
            "0.03133451683171687\n",
            "-1.022103170010873\n",
            "-1.4368294451025299\n",
            "0.19931197648375384\n",
            "0.13337460465860485\n"
          ]
        }
      ]
    },
    {
      "cell_type": "markdown",
      "source": [
        "# Randomly Choosing From a List\n",
        "\n",
        "You can use random numbers to randomly select an item from a list.\n",
        "- For instance, if you have a list with 10 items indexed from 0 to 9, you can generate a random integer between 0 and 9 to make a random selection from the list.\n",
        "- Python's `choice()` function simplifies this process for you, making selections with a uniform likelihood.\n",
        "\n",
        "- The example below generates a list of 20 integers and demonstrates five random selections from that list:\n",
        "\n"
      ],
      "metadata": {
        "id": "hAiTHyjEN30j"
      }
    },
    {
      "cell_type": "code",
      "source": [
        "# Choose a random element from a list\n",
        "from random import seed, choice\n",
        "\n",
        "# Seed the random number generator\n",
        "seed(1)\n",
        "\n",
        "# Prepare a sequence\n",
        "sequence = [i for i in range(20)]\n",
        "print(sequence)\n",
        "\n",
        "# Make choices from the sequence\n",
        "for _ in range(5):\n",
        "    selection = choice(sequence)\n",
        "    print(selection)"
      ],
      "metadata": {
        "colab": {
          "base_uri": "https://localhost:8080/"
        },
        "id": "hdFzFTkLN2mF",
        "outputId": "2809af87-b3a7-47ae-bb6e-5362f1e6e6ce"
      },
      "execution_count": null,
      "outputs": [
        {
          "output_type": "stream",
          "name": "stdout",
          "text": [
            "[0, 1, 2, 3, 4, 5, 6, 7, 8, 9, 10, 11, 12, 13, 14, 15, 16, 17, 18, 19]\n",
            "4\n",
            "18\n",
            "2\n",
            "8\n",
            "3\n"
          ]
        }
      ]
    },
    {
      "cell_type": "markdown",
      "source": [
        "# Random Subsample From a List\n",
        "\n",
        "Sometimes, you might want to repeatedly select items from a list to create a randomly chosen subset.\n",
        "- Importantly, you don't want to select the same item more than once; this is known as \"selection without replacement.\"\n",
        "- Once an item is chosen for the subset, it should not be available for re-selection.\n",
        "- The `sample()` function in Python provides this behavior, allowing you to select a random sample from a list without replacement.\n",
        "\n",
        "  - The function takes both the list and the desired size of the subset as arguments.\n",
        "  - It's important to note that items are not removed from the original list; instead, they are selected into a copy of the list.\n",
        "  \n",
        "- The example below demonstrates selecting a subset of five items from a list of 20 integers:\n",
        "  - Running the example will first display the list of integer values, followed by the selection of a random sample for comparison.\n",
        "\n"
      ],
      "metadata": {
        "id": "DDWz5CFYOJA0"
      }
    },
    {
      "cell_type": "code",
      "source": [
        "# Select a random sample without replacement\n",
        "from random import seed, sample\n",
        "\n",
        "# Seed the random number generator\n",
        "seed(1)\n",
        "\n",
        "# Prepare a sequence\n",
        "sequence = [i for i in range(20)]\n",
        "print(sequence)\n",
        "\n",
        "# Select a subset without replacement\n",
        "subset = sample(sequence, 5)\n",
        "print(subset)"
      ],
      "metadata": {
        "colab": {
          "base_uri": "https://localhost:8080/"
        },
        "id": "fgeVVQebOIBf",
        "outputId": "2087cf9f-03e8-4fa7-ac03-80e5011131f1"
      },
      "execution_count": null,
      "outputs": [
        {
          "output_type": "stream",
          "name": "stdout",
          "text": [
            "[0, 1, 2, 3, 4, 5, 6, 7, 8, 9, 10, 11, 12, 13, 14, 15, 16, 17, 18, 19]\n",
            "[4, 18, 2, 8, 3]\n"
          ]
        }
      ]
    },
    {
      "cell_type": "markdown",
      "source": [
        "# Randomly Shuffle a List\n",
        "\n",
        "Randomness can be used to shuffle a list of items, just like shuffling a deck of cards.\n",
        "- Python provides the `shuffle()` function for this purpose.\n",
        "- It shuffles the list in place, meaning that the list you provide as an argument to the `shuffle()` function is shuffled directly, without creating a separate shuffled copy.\n",
        "\n",
        "- The example below demonstrates how to randomly shuffle a list of integer values:\n",
        "  - Running the example first prints the list of integers in its original order and then displays the same list after it has been randomly shuffled.\n"
      ],
      "metadata": {
        "id": "05_lfliCOkfp"
      }
    },
    {
      "cell_type": "code",
      "source": [
        "# Randomly shuffle a sequence\n",
        "from random import seed, shuffle\n",
        "\n",
        "# Seed the random number generator\n",
        "seed(1)\n",
        "\n",
        "# Prepare a sequence\n",
        "sequence = [i for i in range(20)]\n",
        "print(sequence)\n",
        "\n",
        "# Randomly shuffle the sequence\n",
        "shuffle(sequence)\n",
        "print(sequence)"
      ],
      "metadata": {
        "colab": {
          "base_uri": "https://localhost:8080/"
        },
        "id": "XPm7NEjEOds5",
        "outputId": "ca0a0036-2fe1-4fd9-f340-74d68ab4ba81"
      },
      "execution_count": null,
      "outputs": [
        {
          "output_type": "stream",
          "name": "stdout",
          "text": [
            "[0, 1, 2, 3, 4, 5, 6, 7, 8, 9, 10, 11, 12, 13, 14, 15, 16, 17, 18, 19]\n",
            "[11, 5, 17, 19, 9, 0, 16, 1, 15, 6, 10, 13, 14, 12, 7, 3, 8, 2, 18, 4]\n"
          ]
        }
      ]
    },
    {
      "cell_type": "markdown",
      "source": [
        "---"
      ],
      "metadata": {
        "id": "BpluCniZO6E5"
      }
    },
    {
      "cell_type": "markdown",
      "source": [
        "# Random Numbers with NumPy\n",
        "\n",
        "In machine learning, you often work with libraries like scikit-learn and Keras, which, in turn, rely on NumPy.\n",
        "- NumPy is a powerful library for efficient manipulation of numerical arrays and matrices. It also provides its own implementation of a pseudorandom number generator and convenient wrapper functions.\n",
        "\n",
        "  - NumPy employs the Mersenne Twister pseudorandom number generator.\n",
        "  \n",
        "Below, we'll explore a few examples of generating random numbers and utilizing randomness with NumPy arrays.\n"
      ],
      "metadata": {
        "id": "FWRhsQuOPBfJ"
      }
    },
    {
      "cell_type": "markdown",
      "source": [
        "\n",
        "# Seed The Random Number Generator in NumPy\n",
        "\n",
        "- It's important to note that the NumPy pseudorandom number generator operates independently from the Python standard library's pseudorandom number generator.\n",
        "\n",
        "- Seeding the Python generator does not affect the NumPy generator, and both must be seeded separately.\n",
        "\n",
        "- To seed the NumPy pseudorandom number generator, you can use the `seed()` function, providing it with an integer value as the seed.\n",
        "\n",
        "- The example below demonstrates how to seed the generator and how reseeding it results in the same sequence of random numbers:\n",
        "  - Running the example seeds the NumPy pseudorandom number generator, generates a sequence of random numbers, and then reseeds it, showing that the exact same sequence of random numbers is produced.\n"
      ],
      "metadata": {
        "id": "nTJBUOABPIPh"
      }
    },
    {
      "cell_type": "code",
      "source": [
        "# Seed the pseudorandom number generator in NumPy\n",
        "from numpy.random import seed, rand\n",
        "\n",
        "# Seed the random number generator\n",
        "seed(1)\n",
        "\n",
        "# Generate some random numbers\n",
        "print(rand(3))\n",
        "\n",
        "# Reset the seed\n",
        "seed(1)\n",
        "\n",
        "# Generate some random numbers again\n",
        "print(rand(3))"
      ],
      "metadata": {
        "colab": {
          "base_uri": "https://localhost:8080/"
        },
        "id": "O2xaAU2hOuNj",
        "outputId": "8c7856bc-efb2-4458-ff57-787aa98c6f6a"
      },
      "execution_count": null,
      "outputs": [
        {
          "output_type": "stream",
          "name": "stdout",
          "text": [
            "[4.17022005e-01 7.20324493e-01 1.14374817e-04]\n",
            "[4.17022005e-01 7.20324493e-01 1.14374817e-04]\n"
          ]
        }
      ]
    },
    {
      "cell_type": "markdown",
      "source": [
        "# Array of Random Floating Point Values with NumPy\n",
        "\n",
        "You can generate an array of random floating point values using the `rand()` function from NumPy.\n",
        "- If no argument is provided, it creates a single random value. However, you can specify the size of the array if needed.\n",
        "\n",
        "- The example below demonstrates how to create an array of 10 random floating point values drawn from a uniform distribution:\n",
        "\n",
        "  - Running the example generates and prints a NumPy array containing random floating point values.\n"
      ],
      "metadata": {
        "id": "91iL9SUWPZNU"
      }
    },
    {
      "cell_type": "code",
      "source": [
        "# Generate random floating point values with NumPy\n",
        "from numpy.random import seed, rand\n",
        "\n",
        "# Seed the random number generator\n",
        "seed(1)\n",
        "\n",
        "# Generate random numbers between 0 and 1\n",
        "values = rand(10)\n",
        "print(values)"
      ],
      "metadata": {
        "colab": {
          "base_uri": "https://localhost:8080/"
        },
        "id": "CKFaMsN5PYEA",
        "outputId": "107a68c2-b05c-4a06-8972-fbdcff164510"
      },
      "execution_count": null,
      "outputs": [
        {
          "output_type": "stream",
          "name": "stdout",
          "text": [
            "[4.17022005e-01 7.20324493e-01 1.14374817e-04 3.02332573e-01\n",
            " 1.46755891e-01 9.23385948e-02 1.86260211e-01 3.45560727e-01\n",
            " 3.96767474e-01 5.38816734e-01]\n"
          ]
        }
      ]
    },
    {
      "cell_type": "markdown",
      "source": [
        "# Array of Random Integer Values with NumPy\n",
        "\n",
        "You can create an array of random integers using the `randint()` function from NumPy.\n",
        "- This function takes three arguments: the lower bound of the range, the upper bound of the range, and the number of integer values to generate or the size of the array.\n",
        "- Random integers are drawn from a uniform distribution, including the lower bound but excluding the upper bound, meaning they fall within the interval [lower, upper).\n",
        "\n",
        "- The example below demonstrates how to generate an array of 20 random integers between 0 and 10:\n",
        "  - Running the example generates and prints an array containing 20 random integer values falling within the range of 0 to 10.\n"
      ],
      "metadata": {
        "id": "Qg70zg3iPvL2"
      }
    },
    {
      "cell_type": "code",
      "source": [
        "# Generate random integer values with NumPy\n",
        "from numpy.random import seed, randint\n",
        "\n",
        "# Seed the random number generator\n",
        "seed(1)\n",
        "\n",
        "# Generate random integers\n",
        "values = randint(0, 10, 20)\n",
        "print(values)"
      ],
      "metadata": {
        "colab": {
          "base_uri": "https://localhost:8080/"
        },
        "id": "R-Y5W2kdPtxF",
        "outputId": "414bae97-f1ae-47f9-ab73-31c7d7c17b35"
      },
      "execution_count": null,
      "outputs": [
        {
          "output_type": "stream",
          "name": "stdout",
          "text": [
            "[5 8 9 5 0 0 1 7 6 9 2 4 5 2 4 2 4 7 7 9]\n"
          ]
        }
      ]
    },
    {
      "cell_type": "markdown",
      "source": [
        "# Array of Random Gaussian Values with NumPy\n",
        "\n",
        "You can generate an array of random Gaussian values using the `randn()` function from NumPy.\n",
        "- This function takes a single argument to specify the size of the resulting array.\n",
        "  - The generated Gaussian values are drawn from a standard Gaussian distribution with a mean of 0.0 and a standard deviation of 1.0.\n",
        "\n",
        "- The example below demonstrates how to create an array of 10 random Gaussian values:\n",
        "  - Running the example generates and prints an array of 10 random values following a standard Gaussian distribution.\n",
        "\n",
        "\n",
        "- If you wish to scale these values to a different Gaussian distribution with a specific mean and standard deviation, you can use the formula:\n",
        "\n",
        "  ```\n",
        "  scaled_value = mean + value * stdev\n",
        "  ```\n",
        "\n",
        "  - Where `mean` and `stdev` are the desired mean and standard deviation for the scaled Gaussian distribution, and `value` represents the randomly generated value from a standard Gaussian distribution.\n",
        "\n",
        "\n"
      ],
      "metadata": {
        "id": "Vrojg00HP-z1"
      }
    },
    {
      "cell_type": "code",
      "source": [
        "# Generate random Gaussian values with NumPy\n",
        "from numpy.random import seed, randn\n",
        "\n",
        "# Seed the random number generator\n",
        "seed(1)\n",
        "\n",
        "# Generate random Gaussian values\n",
        "values = randn(10)\n",
        "print(values)"
      ],
      "metadata": {
        "colab": {
          "base_uri": "https://localhost:8080/"
        },
        "id": "2x3FqHrLP9nN",
        "outputId": "cbb297b5-17ab-445c-afd2-1a430d599581"
      },
      "execution_count": null,
      "outputs": [
        {
          "output_type": "stream",
          "name": "stdout",
          "text": [
            "[ 1.62434536 -0.61175641 -0.52817175 -1.07296862  0.86540763 -2.3015387\n",
            "  1.74481176 -0.7612069   0.3190391  -0.24937038]\n"
          ]
        }
      ]
    },
    {
      "cell_type": "markdown",
      "source": [
        "# Shuffle a NumPy Array\n",
        "\n",
        "You can shuffle a NumPy array in-place using the `shuffle()` function from NumPy.\n",
        "\n",
        "- The example below demonstrates how to shuffle a NumPy array:\n",
        "  - Running the example first generates a list of 20 integer values, then shuffles and prints the shuffled array.\n",
        "\n"
      ],
      "metadata": {
        "id": "7qMhjQF5QZzb"
      }
    },
    {
      "cell_type": "code",
      "source": [
        "# Randomly shuffle a sequence with NumPy\n",
        "from numpy.random import seed, shuffle\n",
        "\n",
        "# Seed the random number generator\n",
        "seed(1)\n",
        "\n",
        "# Prepare a sequence\n",
        "sequence = [i for i in range(20)]\n",
        "print(sequence)\n",
        "\n",
        "# Randomly shuffle the sequence\n",
        "shuffle(sequence)\n",
        "print(sequence)"
      ],
      "metadata": {
        "colab": {
          "base_uri": "https://localhost:8080/"
        },
        "id": "lSsBV9e8QVU3",
        "outputId": "b75a4340-5d6a-47c3-9257-36c53e3afaf4"
      },
      "execution_count": null,
      "outputs": [
        {
          "output_type": "stream",
          "name": "stdout",
          "text": [
            "[0, 1, 2, 3, 4, 5, 6, 7, 8, 9, 10, 11, 12, 13, 14, 15, 16, 17, 18, 19]\n",
            "[3, 16, 6, 10, 2, 14, 4, 17, 7, 1, 13, 0, 19, 18, 9, 15, 8, 12, 11, 5]\n"
          ]
        }
      ]
    },
    {
      "cell_type": "markdown",
      "source": [
        "# When to Seed the Random Number Generator\n",
        "\n",
        "There are specific scenarios during a predictive modeling project when it's essential to consider seeding the random number generator. Let's explore two key cases:\n",
        "\n",
        "- **Data Preparation**: In data preparation, randomness is often used, for tasks like shuffling the data or selecting values.\n",
        "  - It's crucial that data preparation remains consistent throughout the project.\n",
        "  - This ensures that the data is consistently prepared during model training, evaluation, and when making predictions with the final model.\n",
        "\n",
        "- **Data Splits**: When dividing data into subsets, such as for a train/test split or k-fold cross-validation, it's vital to maintain consistency.\n",
        "  - This ensures that each algorithm is trained and evaluated on the same subsamples of data.\n",
        "\n",
        "- You may choose to seed the pseudorandom number generator either once before each individual task or once before performing a batch of tasks. The choice between the two generally doesn't matter.\n",
        "  - However, there are situations where you may want an algorithm to behave consistently, such as when it's used in a production environment or during algorithm demonstrations in tutorials. In such cases, initializing the seed before fitting the algorithm makes sense.\n",
        "\n",
        "\n",
        "---\n"
      ],
      "metadata": {
        "id": "lnKoYrYDQm5R"
      }
    },
    {
      "cell_type": "markdown",
      "source": [
        "# Controlling for Randomness in Machine Learning\n",
        "\n",
        "- In stochastic machine learning algorithms, the model may learn slightly differently each time it's run on the same data.\n",
        "  - This leads to variations in model performance during training.\n",
        "  - While using the same sequence of random numbers for model fitting can be done, it's not advisable when evaluating the model as it conceals the inherent uncertainty in the model's performance.\n",
        "\n",
        "- A better approach is to evaluate the algorithm in a way that captures the measured uncertainty in its performance.\n",
        "  - This can be achieved by repeatedly evaluating the algorithm with different sequences of random numbers.\n",
        "  - The pseudorandom number generator can be seeded once at the start of the evaluation, or it can be seeded with a different value at the beginning of each evaluation.\n",
        "  \n",
        "- There are two key aspects of uncertainty to consider:\n",
        "\n",
        "  1. **Data Uncertainty**: Evaluating an algorithm on multiple data splits reveals how the algorithm's performance varies with changes in the train and test data.\n",
        "\n",
        "  2. **Algorithm Uncertainty**: Evaluating an algorithm multiple times on the same data splits provides insights into how the algorithm's performance varies independently.\n",
        "\n",
        "- In general, it's recommended to report on both sources of uncertainty combined. This involves fitting the algorithm on different data splits during each evaluation run, each with a new sequence of randomness.\n",
        "  - The evaluation procedure can seed the random number generator once at the beginning, and this process can be repeated, possibly 30 or more times, to generate a population of performance scores. Summarizing this population provides a fair representation of model performance, taking into account variance in both the training data and the learning algorithm itself.\n",
        "\n",
        "\n",
        "---\n"
      ],
      "metadata": {
        "id": "xxWHFyqlQ321"
      }
    },
    {
      "cell_type": "markdown",
      "source": [
        "# Common Questions\n",
        "\n",
        "**1. Can I predict random numbers?**\n",
        "   - You cannot predict the sequence of random numbers, even with a deep neural network.\n",
        "\n",
        "**2. Will real random numbers lead to better results?**\n",
        "   - As far as I have read, using real randomness does not help in general, unless you are working with simulations of physical processes.\n",
        "\n",
        "**3. What about the final model?**\n",
        "   - The final model is the chosen algorithm and configuration trained on all available training data that you can use to make predictions. The performance of this model will fall within the variance of the evaluated model.\n",
        "\n",
        "---\n"
      ],
      "metadata": {
        "id": "G_OGpEmeRYW4"
      }
    },
    {
      "cell_type": "markdown",
      "source": [
        "# Further Reading\n",
        "\n",
        "### API Documentation\n",
        "- [random Python API](https://docs.python.org/3/library/random.html)\n",
        "- [Random Sampling in NumPy](https://docs.scipy.org/doc/numpy/reference/routines.random.html)\n",
        "\n",
        "### Articles\n",
        "- [Random number generation on Wikipedia](https://en.wikipedia.org/wiki/Random_number_generation)\n",
        "- [Pseudorandom number generator on Wikipedia](https://en.wikipedia.org/wiki/Pseudorandom_number_generator)\n",
        "- [Mersenne Twister on Wikipedia](https://en.wikipedia.org/wiki/Mersenne_Twister)\n",
        "\n",
        "---\n"
      ],
      "metadata": {
        "id": "NgN0xz8SRcZs"
      }
    },
    {
      "cell_type": "code",
      "source": [],
      "metadata": {
        "id": "pwgrHQGYQmPh"
      },
      "execution_count": null,
      "outputs": []
    }
  ]
}