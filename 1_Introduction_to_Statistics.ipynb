{
  "nbformat": 4,
  "nbformat_minor": 0,
  "metadata": {
    "colab": {
      "provenance": []
    },
    "kernelspec": {
      "name": "python3",
      "display_name": "Python 3"
    },
    "language_info": {
      "name": "python"
    }
  },
  "cells": [
    {
      "cell_type": "markdown",
      "source": [
        "# Introduction to Statistics\n",
        "\n",
        "Statistics provides a set of tools that enable us to find answers to crucial questions about data. These tools can be divided into two main categories:\n",
        "\n",
        "1. **Descriptive Statistics:** These methods allow us to convert raw data into understandable and shareable information. They help us summarize and present the data effectively.\n",
        "\n",
        "2. **Inferential Statistics:** These methods help us draw conclusions about entire populations based on data collected from smaller samples.\n",
        "\n",
        "In this chapter, we will explore the significance of statistics, not just in general but also in the context of machine learning. By the end of this chapter, you will have a clear understanding of the following points:\n",
        "\n",
        "- Statistics is considered a fundamental component of applied machine learning.\n",
        "- We rely on statistics to transform raw data into valuable information and to address questions related to data samples.\n",
        "- Statistics encompasses a range of tools developed over centuries for summarizing data and quantifying the characteristics of a domain based on sample observations.\n",
        "\n",
        "---\n",
        "\n"
      ],
      "metadata": {
        "id": "nj-qOeYYl0t9"
      }
    },
    {
      "cell_type": "markdown",
      "source": [
        "# Statistics as a Required Foundation\n",
        "\n",
        "Machine learning and statistics are closely intertwined fields of study. In fact, statisticians often refer to machine learning as \"applied statistics\" or \"statistical learning\" rather than its computer science-centric name.\n",
        "\n",
        "When you delve into the world of machine learning, it's typically assumed that you have some foundational knowledge of statistics. Let's illustrate this with a few selected examples:\n",
        "\n",
        "- In the well-known book \"Applied Predictive Modeling,\" the authors state that readers should have a grasp of basic statistics. This includes concepts like variance, correlation, simple linear regression, and fundamental hypothesis testing (such as p-values and test statistics).\n",
        "\n",
        "- Similarly, the book \"An Introduction to Statistical Learning\" expects its readers to have completed at least an introductory course in statistics.\n",
        "\n",
        "- Even when a book doesn't explicitly require prior knowledge of statistics, it often suggests that having some basic understanding of topics like trigonometry and statistics will facilitate the comprehension of the material.\n",
        "\n",
        "Understanding machine learning is closely tied to having a foundational understanding of statistics. To appreciate this connection, it's essential to recognize the fundamental role statistics plays in both fields.\n",
        "\n",
        "---"
      ],
      "metadata": {
        "id": "UFEOALLMmAlx"
      }
    },
    {
      "cell_type": "markdown",
      "source": [
        "# The Significance of Learning Statistics\n",
        "\n",
        "Raw data, by itself, is not information or knowledge. Instead, it raises questions, such as:\n",
        "\n",
        "- What is the most common or expected observation?\n",
        "- What are the boundaries of these observations?\n",
        "- What does the data actually look like?\n",
        "\n",
        "To transform raw data into useful information, we need to answer these seemingly simple questions. Moreover, when we conduct experiments to gather observations, we encounter more complex questions:\n",
        "\n",
        "- Which variables are the most relevant to our analysis?\n",
        "- What differences exist between the outcomes of different experiments?\n",
        "- Are these differences genuine or merely a result of random noise in the data?\n",
        "\n",
        "These questions are critical because their answers impact our projects, stakeholders, and the decisions we make. To find answers to such questions, we turn to statistical methods.\n",
        "\n",
        "In the context of machine learning, statistics play a vital role in understanding the data used to train a model and interpreting the results of testing various machine learning models. In fact, statistical methods are a fundamental component of every step in a predictive modeling project. They are indispensable for extracting meaningful insights and making informed decisions throughout the process.\n",
        "\n",
        "---\n"
      ],
      "metadata": {
        "id": "gmR3hVA8mLKM"
      }
    },
    {
      "cell_type": "markdown",
      "source": [
        "# Understanding Statistics\n",
        "\n",
        "Statistics is a branch of mathematics that provides a set of tools for working with data and using that data to find answers to various questions. It's often described as the art of making numerical predictions about puzzling questions.\n",
        "\n",
        "The methods used in statistics have evolved over centuries as people sought solutions to their questions. However, to beginners, statistics can appear vast and somewhat complex. It's not always easy to distinguish between statistical methods and those used in other fields of study. In fact, many techniques can straddle the line between classical statistical methods and modern algorithms employed in areas like feature selection and modeling.\n",
        "\n",
        "While a deep theoretical understanding is not necessary for practical use, a foundation in some fundamental theorems helps. For instance, the law of large numbers helps us understand why larger samples are generally more reliable, and the central limit theorem provides a basis for comparing expected values between samples, such as mean values.\n",
        "\n",
        "In practice, statistics can be divided into two main categories of methods:\n",
        "\n",
        "1. **Descriptive Statistics:** These methods are used for summarizing data, allowing us to understand typical experiences and differences between groups.\n",
        "\n",
        "2. **Inferential Statistics:** These methods enable us to draw conclusions from samples of data, assess relationships between variables, and make predictions.\n",
        "\n",
        "Statistics serves as a powerful tool for collecting information from a large number of individuals, summarizing their experiences, and making informed conclusions about general differences and relationships between groups. It plays a critical role in research and decision-making processes.\n",
        "\n",
        "---\n"
      ],
      "metadata": {
        "id": "t90g3iSMmTWD"
      }
    },
    {
      "cell_type": "markdown",
      "source": [
        "## Descriptive Statistics\n",
        "\n",
        "Descriptive statistics encompass methods for transforming raw observations into understandable and shareable information. These methods involve:\n",
        "\n",
        "- Calculating statistical values, such as the mean or median, to summarize the central tendencies of data.\n",
        "- Assessing the spread of data through measures like variance and standard deviation.\n",
        "- Utilizing graphical methods, including charts and graphics, to visualize data samples. These visuals provide qualitative insights into the distribution of observations and the relationships between variables.\n",
        "\n",
        "---\n"
      ],
      "metadata": {
        "id": "H-7IsJqzmhkx"
      }
    },
    {
      "cell_type": "markdown",
      "source": [
        "## Inferential Statistics\n",
        "\n",
        "Inferential statistics are methods designed to quantify characteristics of an entire population using data obtained from a smaller subset known as a sample.\n",
        "\n",
        "At its core, inferential statistics involve:\n",
        "\n",
        "- Estimating population parameters like the expected value or variability based on sample data.\n",
        "\n",
        "More advanced inferential statistical tools help assess the probability of observing data samples under specific assumptions. These tools are commonly known as statistical hypothesis testing methods. In hypothesis testing, the fundamental assumption being tested is referred to as the null hypothesis. The broad array of inferential statistical methods comes into play due to the wide range of hypotheses that can be formulated and the various constraints imposed on data, all aimed at enhancing the reliability and correctness of the test's findings.\n",
        "\n",
        "---\n"
      ],
      "metadata": {
        "id": "wXnxCk9bmuJI"
      }
    },
    {
      "cell_type": "markdown",
      "source": [
        "## Further Reading\n",
        "\n",
        "### Books\n",
        "- [**Applied Predictive Modeling** (2013)](https://amzn.to/2InAS0T)\n",
        "- [**An Introduction to Statistical Learning with Applications in R** (2013)](https://amzn.to/2Gvhkqz)\n",
        "- [**Programming Collective Intelligence: Building Smart Web 2.0 Applications** (2007)](https://amzn.to/2GIN9jc)\n",
        "- [**Statistics, Fourth Edition** (2007)](https://amzn.to/2pUA0tU)\n",
        "- [**All of Statistics: A Concise Course in Statistical Inference** (2004)](https://amzn.to/2H224Tp)\n",
        "- [**Statistics in Plain English, Third Edition** (2010)](https://amzn.to/2Gv0A2V)\n",
        "\n",
        "### Articles\n",
        "- [**Statistics on Wikipedia**](https://en.wikipedia.org/wiki/Statistics)\n",
        "- [**Portal: Statistics on Wikipedia**](https://en.wikipedia.org/wiki/Portal:Statistics)\n",
        "- [**List of statistics articles on Wikipedia**](https://en.wikipedia.org/wiki/List_of_statistics_articles)\n",
        "- [**Mathematical statistics on Wikipedia**](https://en.wikipedia.org/wiki/Mathematical_statistics)\n",
        "- [**History of statistics on Wikipedia**](https://en.wikipedia.org/wiki/History_of_statistics)\n",
        "\n",
        "### Summary\n",
        "- [**Descriptive Statistics on Wikipedia**](https://en.wikipedia.org/wiki/Descriptive_statistics)\n",
        "- [**Statistical Inference on Wikipedia**](https://en.wikipedia.org/wiki/Statistical_inference)\n",
        "\n",
        "---\n"
      ],
      "metadata": {
        "id": "SToh1l3Mmwp3"
      }
    },
    {
      "cell_type": "code",
      "source": [],
      "metadata": {
        "id": "cud-N27GmAHC"
      },
      "execution_count": null,
      "outputs": []
    }
  ]
}