{
  "nbformat": 4,
  "nbformat_minor": 0,
  "metadata": {
    "colab": {
      "provenance": []
    },
    "kernelspec": {
      "name": "python3",
      "display_name": "Python 3"
    },
    "language_info": {
      "name": "python"
    }
  },
  "cells": [
    {
      "cell_type": "markdown",
      "source": [
        "# Understanding Critical Values\n",
        "\n",
        "In the world of statistics, interpreting the results of hypothesis tests often involves using p-values.\n",
        "- However, not all statistical tests provide p-values. In such cases, alternative measures, known as critical values, come into play.\n",
        "- Critical values are also essential when estimating expected intervals for observations within a population, as seen in tolerance intervals.\n",
        "\n",
        "This tutorial aims to introduce you to critical values, explaining their significance, application, and how to calculate them using Python and SciPy.\n",
        "\n",
        "By the end of this tutorial, you will gain knowledge about:\n",
        "\n",
        "1. Real-world examples of statistical hypothesis tests and the associated distributions from which critical values can be derived and applied.\n",
        "\n",
        "2. A clear understanding of how critical values are used in one-tail and two-tail statistical hypothesis tests.\n",
        "\n",
        "3. Step-by-step guidance on calculating critical values for three important distributions: Gaussian, Student’s t, and Chi-Squared.\n",
        "\n",
        "\n",
        "---\n"
      ],
      "metadata": {
        "id": "5lVvJWZnRhYF"
      }
    },
    {
      "cell_type": "markdown",
      "source": [
        "## Why Do We Need Critical Values?\n",
        "\n",
        "- Critical values are derived from the distribution of the test statistic and offer a benchmark against which we can compare our calculated statistic. Here are some instances where we use critical values:\n",
        "\n",
        "  1. **Z-Test:** For tests involving a Gaussian distribution.\n",
        "  2. **Student’s t-Test:** Used with Student’s t-distribution.\n",
        "  3. **Chi-Squared Test:** Applicable when dealing with Chi-Squared distribution.\n",
        "  4. **ANOVA:** Appropriate when working with an F-distribution.\n",
        "\n",
        "- Furthermore, critical values find application in defining intervals for expected or unexpected observations in distributions.\n",
        "  - They are particularly useful when we aim to quantify the uncertainty in estimated statistics, confidence intervals, or tolerance intervals.\n",
        "\n",
        "- It's worth noting that if you have a test statistic and want to calculate a p-value, you can achieve this by obtaining the probability from the cumulative density function (CDF) associated with the test statistic.\n",
        "\n",
        "---\n"
      ],
      "metadata": {
        "id": "Ha2Z5-d7R76o"
      }
    },
    {
      "cell_type": "markdown",
      "source": [
        "## Understanding Critical Values\n",
        "\n",
        "- A critical value is a specific number that helps us make sense of data in statistics.\n",
        "  - It's all about figuring out if an observation from a group of data is likely or unlikely based on a given chance. Here's how we write it down: $ P(X \\leq \\text{critical value}) = \\text{probability} $\n",
        "\n",
        "    - P stands for the chance we're talking about.\n",
        "    - X is the data we're checking.\n",
        "    - \"Critical value\" is that special number we want to know.\n",
        "    - \"Probability\" is how likely something is.\n",
        "\n",
        "- We don't always have easy ways to find critical values with math. For most common cases, we have to make educated guesses using numbers. People used to keep lists of these numbers in the back of their statistics books for help.\n",
        "\n",
        "- Critical values are super important in statistical tests. The chance we're looking at is often called \"significance,\" and we write it as (alpha ). It's just the opposite of the probability: $ probability = 1 - alpha $\n",
        "\n",
        "- Usually, we use some standard values for \\( \\alpha \\) that have been used for a long time, like:\n",
        "  - 1% (alpha = 0.01)\n",
        "  - 5% (alpha = 0.05)\n",
        "  - 10% (alpha = 0.10)\n",
        "\n",
        "Critical values give us a different way to understand statistical tests, kind of like p-values.\n",
        "\n",
        "\n",
        "---\n",
        "\n"
      ],
      "metadata": {
        "id": "FlFu5zYESSdG"
      }
    },
    {
      "cell_type": "markdown",
      "source": [
        "## How to Use Critical Values\n",
        "\n",
        "Critical values act as a threshold for interpreting the results of a statistical test.\n",
        "- When conducting a statistical analysis, you compare your calculated statistic to the critical value to determine if your findings support your hypothesis.\n",
        "- If your statistic falls beyond this critical value, it enters what's known as the \"critical region\" or the \"region of rejection.\"\n",
        "\n",
        "- **Critical Value**: This is a specific number listed in tables for different statistical tests.\n",
        "  - It tells you the point at which you can reject the null hypothesis, indicating that your calculated statistic is in the rejection region.\n",
        "\n",
        "- Remember, statistical tests can be either one-tailed or two-tailed, depending on the nature of your research question and hypothesis.\n",
        "\n",
        "---\n"
      ],
      "metadata": {
        "id": "r91nWe-aTB6I"
      }
    },
    {
      "cell_type": "markdown",
      "source": [
        "## Understanding One-Tailed Tests\n",
        "\n",
        "- In a one-tailed test, there's just one critical value, positioned either on the left or the right side of a distribution.\n",
        "  - It's particularly useful for non-symmetrical distributions, like the Chi-Squared distribution.\n",
        "\n",
        "- Here's how it works:\n",
        "\n",
        "  - We have a statistic that we've calculated.\n",
        "  - We compare this statistic to the critical value.\n",
        "  - If the statistic is less than or equal to the critical value, we can't reject the null hypothesis (H0). We consider the result not significant.\n",
        "  - If the statistic is greater than or equal to the critical value, we have a significant result, and we reject the null hypothesis (H0).\n",
        "\n",
        "- In simple terms:\n",
        "  - If Test Statistic < Critical Value: Not a significant result, we can't reject the null hypothesis (H0).\n",
        "  - If Test Statistic ≥ Critical Value: It's a significant result, and we reject the null hypothesis (H0).\n",
        "\n",
        "\n",
        "---\n"
      ],
      "metadata": {
        "id": "w4U72HgKTRAG"
      }
    },
    {
      "cell_type": "markdown",
      "source": [
        "## Understanding Two-Tailed Tests\n",
        "\n",
        "- In a two-tailed test, there are two critical values, one on each side of a distribution, assuming the distribution is symmetrical (e.g., Gaussian or Student-t distributions).\n",
        "\n",
        "- Here's how it works:\n",
        "\n",
        "  - We typically use a significance level (alpha) when calculating the critical values.\n",
        "    - For a two-tailed test, we split alpha into two equal parts.\n",
        "    - Imagine a 5% alpha, which gets divided into two alpha values of 2.5% on each side of the distribution. The middle 95% represents the acceptance area.\n",
        "  - We call these critical values the \"lower\" and \"upper\" critical values for the left and right sides of the distribution.\n",
        "\n",
        "- Now, interpreting the results:\n",
        "\n",
        "  - If the test statistic falls between the lower and upper critical values: It's not a significant result, and we don't reject the null hypothesis (H0).\n",
        "  - If the test statistic is less than the lower critical value or greater than the upper critical value: It's a significant result, and we reject the null hypothesis (H0).\n",
        "\n",
        "- Simplifying further, if the distribution is symmetric around a mean of zero:\n",
        "\n",
        "  - If the absolute (positive) value of the test statistic is less than the upper critical value, it's not a significant result, and we don't reject the null hypothesis (H0).\n",
        "  - If the absolute value of the test statistic is greater than or equal to the upper critical value, it's a significant result, and we reject the null hypothesis (H0). This indicates that the distributions are different.\n",
        "\n",
        "- In summary:\n",
        "  - If Lower CR < Test Statistic > Upper CR: Not significant, we don't reject the null hypothesis (H0).\n",
        "  - If Test Statistic ≤ Lower CR OR Test Statistic ≥ Upper CR: Significant result, we reject the null hypothesis (H0).\n",
        "  - If |Test Statistic| < Upper Critical Value: Not significant, distributions are the same.\n",
        "  - If |Test Statistic| ≥ Upper Critical Value: Significant result, distributions differ.\n",
        "\n",
        "    - Where |Test Statistic| represents the absolute value of the calculated test statistic.\n",
        "\n",
        "---\n"
      ],
      "metadata": {
        "id": "h53Aic8yTa5q"
      }
    },
    {
      "cell_type": "markdown",
      "source": [
        "## Calculating Critical Values\n",
        "\n",
        "Density functions help us understand the likelihood of an observation in a distribution. Here are two important concepts:\n",
        "\n",
        "- **Probability Density Function (PDF)**: It tells us the likelihood of a specific observation having a particular value from the distribution.\n",
        "- **Cumulative Density Function (CDF)**: It informs us about the likelihood of an observation being less than or equal to a certain value from the distribution.\n",
        "\n",
        "To calculate a critical value, we need a function that can take a probability (or significance level) and provide the observation value from the distribution. This function is called the **Percent Point Function (PPF)** or, more broadly, the **Quantile Function**.\n",
        "\n",
        "- **Percent Point Function (PPF)**: It gives us the observation value for a given probability that is less than or equal to that probability from the distribution.\n",
        "\n",
        "In simple terms, if you have a value returned by the PPF with a specific probability, it means that a value from the distribution is either equal to or less than that returned value.\n",
        "\n",
        "Let's illustrate this with three commonly used distributions for which we often need to calculate critical values: the Gaussian distribution, Student’s t-distribution, and the Chi-Squared distribution. You can calculate the PPF using the `ppf()` function in SciPy. It's worth noting that you may come across the term \"inverse survival function (isf)\" in third-party code, which is an alternative approach to calculate the PPF in SciPy.\n",
        "\n",
        "\n",
        "---\n"
      ],
      "metadata": {
        "id": "WChXUUHiTky_"
      }
    },
    {
      "cell_type": "markdown",
      "source": [
        "## Calculating Critical Values for the Gaussian Distribution\n",
        "\n",
        "- In this example, we calculate a critical value for a 95% confidence level on the standard Gaussian distribution. This value helps us understand where the middle 95% of observations fall.\n",
        "\n",
        "- When you run this code, it first prints a value, approximately 1.645, which signifies that 95% or less of the observations from the Gaussian distribution fall below this value.\n",
        "  - This value is then confirmed by retrieving the probability from the Cumulative Density Function (CDF), which returns 95%, as expected.\n",
        "\n",
        "  - The value of approximately 1.645 aligns with the idea that it covers 95% of the distribution and corresponds to about 1.645 standard deviations from the mean, following the common \"68-95-99.7 rule.\"\n",
        "\n",
        "---"
      ],
      "metadata": {
        "id": "vQVdx8X6TvPN"
      }
    },
    {
      "cell_type": "code",
      "source": [
        "# Gaussian Percent Point Function\n",
        "from scipy.stats import norm\n",
        "\n",
        "# Define probability (95% confidence level)\n",
        "p = 0.95\n",
        "\n",
        "# Retrieve a value that corresponds to the probability\n",
        "value = norm.ppf(p)\n",
        "print(value)\n",
        "\n",
        "# Confirm the probability with the Cumulative Density Function (CDF)\n",
        "p = norm.cdf(value)\n",
        "print(p)"
      ],
      "metadata": {
        "colab": {
          "base_uri": "https://localhost:8080/"
        },
        "id": "qiCWbNG3sr5T",
        "outputId": "3480087a-c215-4136-e096-4fad1ee612eb"
      },
      "execution_count": null,
      "outputs": [
        {
          "output_type": "stream",
          "name": "stdout",
          "text": [
            "1.6448536269514722\n",
            "0.95\n"
          ]
        }
      ]
    },
    {
      "cell_type": "markdown",
      "source": [
        "## Calculating Critical Values for the Student’s t-Distribution\n",
        "\n",
        "- In this example, we calculate a critical value for a 95% confidence level on the standard Student’s t-distribution with 10 degrees of freedom. This value helps us understand where the middle 95% of observations fall.\n",
        "\n",
        "- Running this code returns a value, approximately 1.812, which covers 95% or less of the observations from the Student’s t-distribution with 10 degrees of freedom.\n",
        "  - The probability of this value is then confirmed (with minor rounding error) via the Cumulative Density Function (CDF).\n",
        "\n",
        "\n",
        "---\n",
        "\n"
      ],
      "metadata": {
        "id": "kDiTnFP5UCnn"
      }
    },
    {
      "cell_type": "code",
      "source": [
        "# Student’s t-Distribution Percent Point Function\n",
        "from scipy.stats import t\n",
        "\n",
        "# Define probability (95% confidence level) and degrees of freedom\n",
        "p = 0.95\n",
        "df = 10\n",
        "\n",
        "# Retrieve a value that corresponds to the probability\n",
        "value = t.ppf(p, df)\n",
        "print(value)\n",
        "\n",
        "# Confirm the probability with the Cumulative Density Function (CDF)\n",
        "p = t.cdf(value, df)\n",
        "print(p)"
      ],
      "metadata": {
        "colab": {
          "base_uri": "https://localhost:8080/"
        },
        "id": "vvv-SybRs5gW",
        "outputId": "37b57157-be2d-44ac-8515-d503a6b9ea8c"
      },
      "execution_count": null,
      "outputs": [
        {
          "output_type": "stream",
          "name": "stdout",
          "text": [
            "1.8124611228107335\n",
            "0.949999999999923\n"
          ]
        }
      ]
    },
    {
      "cell_type": "markdown",
      "source": [
        "## Calculating Critical Values for the Chi-Squared Distribution\n",
        "\n",
        "- In this example, we calculate a critical value for a 95% confidence level on the standard Chi-Squared distribution with 10 degrees of freedom. This value helps us understand where the middle 95% of observations fall.\n",
        "\n",
        "- Running this code first calculates a value, approximately 18.3, that covers 95% or less of the observations from the Chi-Squared distribution with 10 degrees of freedom.\n",
        "  - The probability associated with this observation is confirmed by using it as input to the Cumulative Density Function (CDF).\n",
        "\n",
        "---\n",
        "\n"
      ],
      "metadata": {
        "id": "ykjS34A1UWFf"
      }
    },
    {
      "cell_type": "code",
      "source": [
        "# Chi-Squared Distribution Percent Point Function\n",
        "from scipy.stats import chi2\n",
        "\n",
        "# Define probability (95% confidence level) and degrees of freedom\n",
        "p = 0.95\n",
        "df = 10\n",
        "\n",
        "# Retrieve a value that corresponds to the probability\n",
        "value = chi2.ppf(p, df)\n",
        "print(value)\n",
        "\n",
        "# Confirm the probability with the Cumulative Density Function (CDF)\n",
        "p = chi2.cdf(value, df)\n",
        "print(p)"
      ],
      "metadata": {
        "colab": {
          "base_uri": "https://localhost:8080/"
        },
        "id": "HN-qRKpys_-a",
        "outputId": "cecd2895-758e-45b2-93c4-3c0c71ba6504"
      },
      "execution_count": null,
      "outputs": [
        {
          "output_type": "stream",
          "name": "stdout",
          "text": [
            "18.307038053275146\n",
            "0.95\n"
          ]
        }
      ]
    },
    {
      "cell_type": "markdown",
      "source": [
        "## Further Reading\n",
        "\n",
        "### Books\n",
        "\n",
        "- [Handbook of Research Methods: A Guide for Practitioners and Students in the Social Sciences, 2003](http://amzn.to/2G4vG4k)\n",
        "\n",
        "### API Documentation\n",
        "\n",
        "- [scipy.stats.norm API](https://docs.scipy.org/doc/scipy/reference/generated/scipy.stats.norm.html)\n",
        "- [scipy.stats.t API](https://docs.scipy.org/doc/scipy/reference/generated/scipy.stats.t.html)\n",
        "- [scipy.stats.chi2 API](https://docs.scipy.org/doc/scipy/reference/generated/scipy.stats.chi2.html)\n",
        "\n",
        "### Articles\n",
        "\n",
        "- [Critical value on Wikipedia](https://en.wikipedia.org/wiki/Critical_value)\n",
        "- [P-value on Wikipedia](https://en.wikipedia.org/wiki/P-value)\n",
        "- [One- and two-tailed tests on Wikipedia](https://en.wikipedia.org/wiki/One-_and_two-tailed_tests)\n",
        "- [Quantile function on Wikipedia](https://en.wikipedia.org/wiki/Quantile_function)\n",
        "- [68-95-99.7 rule on Wikipedia](https://en.wikipedia.org/wiki/68%E2%80%9395%E2%80%9399.7_rule)\n",
        "\n",
        "\n",
        "---\n"
      ],
      "metadata": {
        "id": "rvElpcc1Ugvw"
      }
    },
    {
      "cell_type": "code",
      "source": [],
      "metadata": {
        "id": "ev4KxuEOUVqc"
      },
      "execution_count": null,
      "outputs": []
    }
  ]
}