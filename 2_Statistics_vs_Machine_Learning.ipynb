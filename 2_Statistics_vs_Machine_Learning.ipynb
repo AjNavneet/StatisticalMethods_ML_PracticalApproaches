{
  "nbformat": 4,
  "nbformat_minor": 0,
  "metadata": {
    "colab": {
      "provenance": []
    },
    "kernelspec": {
      "name": "python3",
      "display_name": "Python 3"
    },
    "language_info": {
      "name": "python"
    }
  },
  "cells": [
    {
      "cell_type": "markdown",
      "source": [
        "# Statistics vs Machine Learning\n",
        "\n",
        "Machine learning and statistics, while tackling similar modeling problems, come from different backgrounds and emphasize distinct aspects of the modeling process.\n",
        "\n",
        "- **Machine Learning**: This field focuses on practical algorithmic solutions and prioritizes model performance and results above all. Interpretability of models is often secondary.\n",
        "\n",
        "- **Statistics**: Rooted in mathematics, statistics emphasizes understanding the behavior of models and the interpretability of predictions. It places a strong emphasis on data models and goodness of fit.\n",
        "\n",
        "The close relationship between these two approaches means they can learn from each other. Machine learning practitioners can benefit from understanding the terminology and methods of applied statistics, while statisticians can explore algorithmic techniques. In this chapter, we explore the interconnectedness of machine learning and statistical learning, revealing their different but complementary perspectives on data modeling.\n",
        "\n",
        "---\n"
      ],
      "metadata": {
        "id": "5Vxq8lRonYzJ"
      }
    },
    {
      "cell_type": "markdown",
      "source": [
        "## Machine Learning\n",
        "\n",
        "Machine learning is a subfield of artificial intelligence and computer science. It primarily focuses on developing algorithms and code to achieve practical results, often centered around predictive modeling.\n",
        "\n",
        "From a research perspective, machine learning delves into the study of computer programs that can improve their performance through experience. While predictive modeling is one facet of machine learning, it encompasses a broader spectrum.\n",
        "\n",
        "For instance, machine learning methods may include approaches borrowed from other fields like statistics. Take linear regression as an example, a method originating in statistics, now adapted to learn model parameters from data examples.\n",
        "\n",
        "In the field of artificial intelligence and machine learning, various methods have been devised, some by statisticians, which prove highly effective for predictive modeling tasks. These methods might bear little resemblance to classical statistical approaches, such as classification and regression trees.\n",
        "\n",
        "\n",
        "---\n"
      ],
      "metadata": {
        "id": "ars9cqTnnmJR"
      }
    },
    {
      "cell_type": "markdown",
      "source": [
        "## Predictive Modeling\n",
        "\n",
        "Predictive modeling is the practical aspect of machine learning that transcends distinctions between statistics and machine learning. It focuses on developing models solely for the purpose of making predictions, without being encumbered by the broader objectives of statistics or machine learning.\n",
        "\n",
        "Predictive modeling encompasses the tools and techniques often associated with machine learning, such as pattern recognition and data mining. However, it extends beyond these methods to define a rigorous process of creating models. This process aims to ensure we can comprehend and quantify the model's prediction accuracy when applied to unseen data in the future.\n",
        "\n",
        "The primary goal of predictive modeling is to optimize the model's performance according to some measure of skill, often seeking maximum accuracy at the expense of other factors. Whether you call it machine learning or predictive modeling is less important; what truly matters to practitioners is achieving results and delivering value.\n",
        "\n",
        "\n",
        "---\n"
      ],
      "metadata": {
        "id": "G1YieKG_nwXM"
      }
    },
    {
      "cell_type": "markdown",
      "source": [
        "## Predictive Modeling\n",
        "\n",
        "Predictive modeling is the practical aspect of machine learning that transcends distinctions between statistics and machine learning. It focuses on developing models solely for the purpose of making predictions, without being encumbered by the broader objectives of statistics or machine learning.\n",
        "\n",
        "Predictive modeling encompasses the tools and techniques often associated with machine learning, such as pattern recognition and data mining. However, it extends beyond these methods to define a rigorous process of creating models. This process aims to ensure we can comprehend and quantify the model's prediction accuracy when applied to unseen data in the future.\n",
        "\n",
        "The primary goal of predictive modeling is to optimize the model's performance according to some measure of skill, often seeking maximum accuracy at the expense of other factors. Whether you call it machine learning or predictive modeling is less important; what truly matters to practitioners is achieving results and delivering value.\n",
        "\n",
        "\n",
        "---\n",
        "\n",
        "\n",
        "\n",
        "| Statistics Term         | Explanation             | Machine Learning Term   | Explanation              |\n",
        "|------------------------|-------------------------|-------------------------|-------------------------|\n",
        "| Model                  | A mathematical or statistical representation of data or a system. | Model | A representation of a real-world process or phenomenon. |\n",
        "| Parameters             | Components of statistical models. | Weights / Parameters | Values learned by algorithms to make predictions or classify data. |\n",
        "| Fitting                | The process of adjusting a model to best match data. | Learning | The process of training models on data to make predictions. |\n",
        "| Test Set Performance   | How well a model performs on new, unseen data. | Generalization | The ability of a model to perform well on data it has not seen during training. |\n",
        "| Regression / Classification | Statistical techniques for predicting continuous values or categorizing data. | Supervised Learning | Machine learning tasks involving prediction or classification with labeled data. |\n",
        "| Density Estimation / Clustering | Statistical methods for grouping data or estimating probability distributions. | Unsupervised Learning | Machine learning tasks like grouping data or estimating distributions without labeled data. |\n",
        "\n",
        "\n",
        "\n",
        "\n",
        "---\n"
      ],
      "metadata": {
        "id": "6dXmMpk2oFPo"
      }
    },
    {
      "cell_type": "markdown",
      "source": [
        "# Two Perspectives on Data\n",
        "\n",
        "Recently, some experts in statistics have looked skeptically at the field of machine learning and its approach of pursuing results at any cost. While both fields offer value, they often address similar problems in slightly different ways.\n",
        "\n",
        "In the world of machine learning, techniques like decision trees and artificial neural networks (now often referred to as deep learning) have made significant contributions. Those working in machine learning should still be mindful of statistical principles, just as statisticians should consider the insights from machine learning.\n",
        "\n",
        "This idea was prominently discussed in a well-known 2001 paper titled \"Statistical Modeling: The Two Cultures\" by Leo Breiman. In this paper, he compared the traditional data modeling approach used by statisticians with the algorithmic approach employed in fields like machine learning. Statisticians tend to focus on how well their models fit data, while those in other fields prioritize predictive accuracy.\n",
        "\n",
        "Breiman argued that statistics could lose relevance and robustness by ignoring the algorithmic approach. The traditional statisticians often concentrate on making data fit their models, rather than selecting or adapting models to fit the data.\n",
        "\n",
        "This exclusive reliance on data models in statistics has led to irrelevant theories, questionable conclusions, and has hindered progress on a wide range of real-world problems. If the goal of our field is to use data effectively, then we must diversify our toolkit beyond data models.\n",
        "\n",
        "— *Statistical Modeling: The Two Cultures, Leo Breiman, 2001.*\n",
        "\n",
        "This paper remains relevant and is worth reading, even more than 15 years later. The emergence of subfields like statistical learning by statisticians shows progress in this direction.\n",
        "\n",
        "---\n"
      ],
      "metadata": {
        "id": "1ReL5PAgpNMa"
      }
    },
    {
      "cell_type": "markdown",
      "source": [
        "# Further Reading\n",
        "\n",
        "If you're interested in delving deeper into the topic, here are some additional resources:\n",
        "\n",
        "1. **Statistical Modeling: The Two Cultures, 2001.**\n",
        "   - [Read the Paper](http://projecteuclid.org/euclid.ss/1009213726)\n",
        "\n",
        "2. **Statistics vs. Machine Learning, Fight!, 2008.**\n",
        "   - [Read the Article](http://brenocon.com/blog/2008/12/statistics-vs-machine-learning-fight/)\n",
        "\n",
        "3. **The Two Cultures: Statistics vs. Machine Learning? on Cross Validated.**\n",
        "   - [Discussion on Stack Exchange](https://stats.stackexchange.com/questions/6/the-two-cultures-statistics-vs-machine-learning)\n",
        "\n",
        "4. **Glossary: Machine Learning vs. Statistics, Modern Applied Statistics: Elements of Statistical Learning.**\n",
        "   - [Access the Glossary (PDF)](http://statweb.stanford.edu/~tibs/stat315a/glossary.pdf)\n",
        "\n",
        "---"
      ],
      "metadata": {
        "id": "wSkIE2LYqDNu"
      }
    },
    {
      "cell_type": "code",
      "source": [],
      "metadata": {
        "id": "FH9FkULInlyu"
      },
      "execution_count": null,
      "outputs": []
    }
  ]
}